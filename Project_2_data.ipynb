{
 "cells": [
  {
   "cell_type": "code",
   "execution_count": 1,
   "metadata": {},
   "outputs": [],
   "source": [
    "import pandas as pd\n",
    "pd.set_option('display.max_colwidth', None)\n",
    "pd.set_option('display.max_columns', None)\n",
    "pd.set_option('display.max_rows',None)\n",
    "import re\n",
    "from fuzzywuzzy import process\n"
   ]
  },
  {
   "cell_type": "code",
   "execution_count": 2,
   "metadata": {},
   "outputs": [],
   "source": [
    "airport_traffic_2016 = pd.read_csv(\"/Users/adolfoartolamadrigal/Documents/Irohacks/Project/Project1/airport_traffic_2016.csv\")\n",
    "airport_traffic_2017 = pd.read_csv(\"/Users/adolfoartolamadrigal/Documents/Irohacks/Project/Project1/airport_traffic_2017.csv\")\n",
    "airport_traffic_2018 = pd.read_csv(\"/Users/adolfoartolamadrigal/Documents/Irohacks/Project/Project1/airport_traffic_2018.csv\")\n",
    "airport_traffic_2019 = pd.read_csv(\"/Users/adolfoartolamadrigal/Documents/Irohacks/Project/Project1/airport_traffic_2019.csv\")\n",
    "airport_traffic_2020 = pd.read_csv(\"/Users/adolfoartolamadrigal/Documents/Irohacks/Project/Project1/airport_traffic_2020.csv\")\n",
    "airport_traffic_2021 = pd.read_csv(\"/Users/adolfoartolamadrigal/Documents/Irohacks/Project/Project1/airport_traffic_2021.csv\")\n",
    "airport_traffic_2022 = pd.read_csv(\"/Users/adolfoartolamadrigal/Documents/Irohacks/Project/Project1/airport_traffic_2022.csv\")\n",
    "airport_traffic_2023 = pd.read_csv(\"/Users/adolfoartolamadrigal/Documents/Irohacks/Project/Project1/airport_traffic_2023.csv\")\n",
    "airport_traffic_2024 = pd.read_csv(\"/Users/adolfoartolamadrigal/Documents/Irohacks/Project/Project1/airport_traffic_2024.csv\")\n",
    "\n",
    "iata_code = pd.read_csv(\"/Users/adolfoartolamadrigal/Documents/Irohacks/Project/Project1/missing_IATA_codes.csv\")\n",
    "iata_code = iata_code[\"CAO,IATA\"].str.split(',', expand=True)\n",
    "iata_code = iata_code.rename(columns={0: 'CAO',1:'IATA'})\n",
    "\n",
    "combined_airport_traffic_df = combined_airport_traffic = pd.concat([airport_traffic_2016, airport_traffic_2017,airport_traffic_2018,airport_traffic_2019,airport_traffic_2020,airport_traffic_2021,airport_traffic_2022,airport_traffic_2023,airport_traffic_2024], ignore_index=True)\n",
    "taxi_in_df = pd.read_excel(\"/Users/adolfoartolamadrigal/Documents/Irohacks/Project/Project1/Taxi_times_Planning_Data_S14_S22.xlsx\",sheet_name=\"Taxi-In S14-S22\")\n",
    "taxi_out_df = pd.read_excel(\"/Users/adolfoartolamadrigal/Documents/Irohacks/Project/Project1/Taxi_times_Planning_Data_S14_S22.xlsx\",sheet_name=\"Taxi-Out S14-W22\")\n",
    "waketurb_df = pd.read_excel(\"/Users/adolfoartolamadrigal/Documents/Irohacks/Project/Project1/Taxi_times_Planning_Data_S14_S22.xlsx\",sheet_name=\"Wake Turbul. Taxi-out S14-W22\")\n"
   ]
  },
  {
   "cell_type": "code",
   "execution_count": 3,
   "metadata": {},
   "outputs": [],
   "source": [
    "combined_airport_traffic_df = pd.merge(combined_airport_traffic_df, taxi_in_df[[\"ICAO\",\"IATA\"]], how='left', left_on = \"APT_ICAO\", right_on=\"ICAO\")\n",
    "combined_airport_traffic_df = pd.merge(combined_airport_traffic_df, iata_code, how='left', left_on = \"APT_ICAO\", right_on=\"CAO\")\n",
    "combined_airport_traffic_df.loc[\n",
    "    ((combined_airport_traffic_df[\"IATA_x\"].isnull()) &\n",
    "    (combined_airport_traffic_df[\"IATA_y\"].notnull())),\n",
    "    \"IATA_x\"\n",
    "] = combined_airport_traffic_df[\"IATA_y\"]\n",
    "\n",
    "combined_airport_traffic_df = combined_airport_traffic_df.rename(columns={\"IATA_x\":'IATA'})\n",
    "date_pattern = r'\\b\\d{4}-(0[1-9]|1[0-2])-(0[1-9]|[12][0-9]|3[01])\\b(,\\s*\\b\\d{4}-(0[1-9]|1[0-2])-(0[1-9]|[12][0-9]|3[01])\\b)*'\n",
    "combined_airport_traffic_df [\"date_check\"] = \"other\"\n",
    "combined_airport_traffic_df.loc[\n",
    "    combined_airport_traffic_df[\"FLT_DATE\"].str.match(date_pattern),\n",
    "    \"date_check\"\n",
    "] = \"YYYY-MM-DD\"\n",
    "combined_airport_traffic_df[\"date_check\"].nunique()\n",
    "combined_airport_traffic_df[\"FLT_DATE\"]  = pd.to_datetime(combined_airport_traffic_df[\"FLT_DATE\"])\n",
    "\n",
    "combined_airport_traffic_df.drop(columns=[\"date_check\",\"IATA_y\",\"CAO\",\"ICAO\"],inplace = True)\n",
    "combined_airport_traffic_df.drop_duplicates(inplace = True)"
   ]
  },
  {
   "cell_type": "code",
   "execution_count": 4,
   "metadata": {},
   "outputs": [],
   "source": [
    "combined_airport_traffic_df[\"YEAR_MONTH\"] = combined_airport_traffic_df['FLT_DATE'].dt.strftime('%Y-%m')\n",
    "columns_moved = [\"YEAR\",\"MONTH_NUM\",\"MONTH_MON\",\"FLT_DATE\",\"YEAR_MONTH\"]\n",
    "new_order = columns_moved + [column for column in combined_airport_traffic_df.columns if column not in columns_moved]\n",
    "combined_airport_traffic_df = combined_airport_traffic_df[new_order]"
   ]
  },
  {
   "cell_type": "code",
   "execution_count": 5,
   "metadata": {},
   "outputs": [],
   "source": [
    "spanish_departures = combined_airport_traffic_df.loc[combined_airport_traffic_df[\"STATE_NAME\"]=='Spain',[\"YEAR\",\"YEAR_MONTH\",\"APT_NAME\",\"IATA\",\"FLT_DEP_1\"]]\n",
    "spanish_arrivals = combined_airport_traffic_df.loc[combined_airport_traffic_df[\"STATE_NAME\"]=='Spain',[\"YEAR\",\"YEAR_MONTH\",\"APT_NAME\",\"IATA\",\"FLT_ARR_1\"]]\n",
    "spanish_arrivals_flights = combined_airport_traffic_df.loc[combined_airport_traffic_df[\"STATE_NAME\"]=='Spain',[\"YEAR\",\"YEAR_MONTH\",\"APT_NAME\",\"IATA\",\"FLT_TOT_1\"]]\n"
   ]
  },
  {
   "cell_type": "code",
   "execution_count": 6,
   "metadata": {},
   "outputs": [],
   "source": [
    "airport_taxes_df = pd.read_excel(\"/Users/adolfoartolamadrigal/Documents/Irohacks/Project/Project1/Airport_Taxes.xlsx\")\n",
    "airport_taxes_df.columns = airport_taxes_df.iloc[0]"
   ]
  },
  {
   "cell_type": "code",
   "execution_count": 7,
   "metadata": {},
   "outputs": [],
   "source": [
    "spain_flights = pd.read_excel(\"/Users/adolfoartolamadrigal/Documents/Irohacks/Project/Project1/avia_par_es.xlsx\",skiprows=8)\n",
    "spain_flights = spain_flights.loc[:,~ spain_flights.columns.str.contains('Unnamed')]\n",
    "spain_flights.fillna(0, inplace = True)\n",
    "spain_flights.rename(columns = {\"TIME\":\"LEG\"}, inplace = True)"
   ]
  },
  {
   "cell_type": "code",
   "execution_count": 8,
   "metadata": {},
   "outputs": [],
   "source": [
    "spain_flights1 = spain_flights.copy()\n",
    "spain_flights1[\"leg_check\"] = \"Other\""
   ]
  },
  {
   "cell_type": "code",
   "execution_count": 9,
   "metadata": {},
   "outputs": [],
   "source": [
    "leg_pattern1 = r'\\b(\\w+ airport) - (\\w+ airport)\\b'\n",
    "leg_pattern2 = r'\\b(\\w+ airport) - ([\\w-]+ airport)\\b'\n",
    "leg_pattern3 = r'\\b(\\w+ airport) - ([\\w/]+ airport)\\b' \n",
    "leg_pattern4 =  r'\\b(\\w+ airport) - ([\\w/ ]+ airport)\\b'\n",
    "leg_pattern5 = r'\\b\\w+ airport - airport SYSTEM - \\w+ airport\\b'\n",
    "\n",
    "spain_flights1.loc[\n",
    "    spain_flights1[\"LEG\"].str.match(leg_pattern1),\n",
    "    \"leg_check\"\n",
    "] = \"leg_pattern1\"\n",
    "\n",
    "spain_flights1.loc[\n",
    "    ((spain_flights1[\"leg_check\"]==\"Other\")&\n",
    "    (spain_flights1[\"LEG\"].str.match(leg_pattern2))),\n",
    "    \"leg_check\"\n",
    "] = \"leg_pattern2\"\n",
    "\n",
    "spain_flights1.loc[\n",
    "    ((spain_flights1[\"leg_check\"]==\"Other\")&\n",
    "    (spain_flights1[\"LEG\"].str.match(leg_pattern3))),\n",
    "    \"leg_check\"\n",
    "] = \"leg_pattern3\"\n",
    "\n",
    "spain_flights1.loc[\n",
    "    ((spain_flights1[\"leg_check\"]==\"Other\")&\n",
    "    (spain_flights1[\"LEG\"].str.match(leg_pattern4))),\n",
    "    \"leg_check\"\n",
    "] = \"leg_pattern4\"\n",
    "\n",
    "spain_flights1.loc[\n",
    "    ((spain_flights1[\"leg_check\"]==\"Other\")&\n",
    "    (spain_flights1[\"LEG\"].str.match(leg_pattern5))),\n",
    "    \"leg_check\"\n",
    "] = \"leg_pattern5\"\n",
    "\n",
    "\n",
    "spain_flights1.loc[\n",
    "    spain_flights1[\"leg_check\"] == \"leg_pattern5\",\n",
    "    \"LEG\"] = spain_flights1.loc[\n",
    "        spain_flights1[\"leg_check\"] == \"leg_pattern5\",\n",
    "        \"LEG\"].str.replace(\"airport SYSTEM - \",\"\")\n",
    "\n",
    "spain_flights1[['Origin', 'Destination']] = spain_flights1['LEG'].str.split(' - ', n=1, expand=True)\n"
   ]
  },
  {
   "cell_type": "code",
   "execution_count": 10,
   "metadata": {},
   "outputs": [],
   "source": [
    "columns_moved1 = [\"Origin\",\"Destination\"]\n",
    "new_order = columns_moved1 + [column for column in spain_flights1.columns if column not in columns_moved1]\n",
    "spain_flights1 = spain_flights1[new_order]\n",
    "spain_flights1[\"Origin\"] = spain_flights1[\"Origin\"].str.replace(\" airport\",\"\").str.title()\n",
    "spain_flights1[\"Destination\"] = spain_flights1[\"Destination\"].str.replace(\" airport\",\"\").str.title()"
   ]
  },
  {
   "cell_type": "code",
   "execution_count": 11,
   "metadata": {},
   "outputs": [],
   "source": [
    "spain_flights2 = spain_flights1.copy()\n",
    "spain_flights_Origin = spain_flights2[\"Origin\"].unique()\n",
    "spain_flights_Destination = spain_flights2[\"Destination\"].unique()\n",
    "combined_airport_traffic_apt_name = combined_airport_traffic_df[\"APT_NAME\"].unique()\n",
    "\n",
    "\n",
    "def get_best_match(origin, choices):\n",
    "\n",
    "    \"\"\"  \n",
    "    En esta función paso dos variables; origin y choices.\n",
    "    origin pasa el valor que quiero machear. En este caso la ciudad en spain_flights_Origin\n",
    "    process.extractOne, de la ciudad que ponga en origin:\n",
    "    match: la ciudad que más se le parece.\n",
    "    score: El número de % que se acercan.\n",
    "\n",
    "    \"\"\"\n",
    "    match, score = process.extractOne(origin, choices)\n",
    "    return match, score\n",
    "\n",
    "\n",
    "\n",
    "apt_names = combined_airport_traffic_apt_name.tolist()\n",
    "\n",
    "\n",
    "\n",
    "\n",
    "spain_flights2[\"Best_pair_Origin\"] = spain_flights2[\"Origin\"].apply(lambda x:get_best_match(x,apt_names))\n",
    "spain_flights2[\"Best_pair_Destination\"] = spain_flights2[\"Destination\"].apply(lambda x:get_best_match(x,apt_names))\n",
    "\n",
    "\n",
    "spain_flights2[[\"Best_Match_Origin\",\"Score_Origin\"]] = spain_flights2[\"Best_pair_Origin\"].apply(pd.Series)\n",
    "spain_flights2[[\"Best_Match_Destination\",\"Score_Destination\"]] = spain_flights2[\"Best_pair_Destination\"].apply(pd.Series)\n"
   ]
  },
  {
   "cell_type": "code",
   "execution_count": 12,
   "metadata": {},
   "outputs": [],
   "source": [
    "columns_moved_2 = [\"Origin\",\"Best_Match_Origin\",\"Score_Origin\",\"Destination\",\"Best_Match_Destination\",\"Score_Destination\"]\n",
    "new_order2 = columns_moved_2 + [column for column in spain_flights2.columns if column not in columns_moved_2]\n",
    "spain_flights2 = spain_flights2[new_order2]\n",
    "\n",
    "spain_flights2.replace(\":\",0, inplace=True)\n",
    "spain_flights2.head()\n",
    "\n",
    "spain_flights2.loc[\n",
    "((spain_flights2[\"Score_Origin\"]<=100)&\n",
    "(spain_flights2[\"Score_Origin\"]>=90)),\n",
    "\"Origin\"\n",
    "] = spain_flights2[\"Best_Match_Origin\"]\n",
    "\n",
    "spain_flights2.loc[\n",
    "    spain_flights2[\"Origin\"] == \"Adolfo Suarez Madrid-Barajas\",\n",
    "    \"Origin\"\n",
    "] = \"Madrid - Barajas\"\n",
    "\n",
    "spain_flights2.loc[\n",
    "    spain_flights2[\"Origin\"] == \"Girona\",\n",
    "    \"Origin\"\n",
    "] = \"Gerona\"\n",
    "\n",
    "spain_flights2.loc[\n",
    "    spain_flights2[\"Origin\"] == \"Menorca\",\n",
    "    \"Origin\"\n",
    "] = \"Mahon\"\n",
    "\n",
    "spain_flights2.loc[\n",
    "    spain_flights2[\"Origin\"] == \"Murcia/Aeropuerto De La Region De Murcia\",\n",
    "    \"Origin\"\n",
    "] = \"Región de Murcia International Airport\"\n",
    "\n",
    "\n",
    "spain_flights2.loc[\n",
    "((spain_flights2[\"Score_Destination\"]<=100)&\n",
    "(spain_flights2[\"Score_Destination\"]>=90)),\n",
    "\"Destination\"\n",
    "] = spain_flights2[\"Best_Match_Destination\"]\n",
    "\n",
    "spain_flights2.loc[\n",
    "    spain_flights2[\"Destination\"] == \"Adolfo Suarez Madrid-Barajas\",\n",
    "    \"Destination\"\n",
    "] = \"Madrid - Barajas\"\n",
    "\n",
    "spain_flights2.loc[\n",
    "    spain_flights2[\"Destination\"] == \"Girona\",\n",
    "    \"Destination\"\n",
    "] = \"Gerona\"\n",
    "\n",
    "spain_flights2.loc[\n",
    "    spain_flights2[\"Destination\"] == \"Menorca\",\n",
    "    \"Destination\"\n",
    "] = \"Mahon\"\n",
    "\n",
    "spain_flights2.loc[\n",
    "    spain_flights2[\"Destination\"] == \"Murcia/Aeropuerto De La Region De Murcia\",\n",
    "    \"Destination\"\n",
    "] = \"Región de Murcia International Airport\"\n"
   ]
  },
  {
   "cell_type": "code",
   "execution_count": 13,
   "metadata": {},
   "outputs": [],
   "source": [
    "spain_flights_Origin = spain_flights2[\"Origin\"].unique()\n",
    "spain_flights_Destination = spain_flights2[\"Destination\"].unique()\n",
    "combined_airport_traffic_apt_name = combined_airport_traffic_df[\"APT_NAME\"].unique()\n",
    "\n",
    "\n",
    "def get_best_match(origin, choices):\n",
    "\n",
    "    \"\"\"  \n",
    "    En esta función paso dos variables; origin y choices.\n",
    "    origin pasa el valor que quiero machear. En este caso la ciudad en spain_flights_Origin\n",
    "    process.extractOne, de la ciudad que ponga en origin:\n",
    "    match: la ciudad que más se le parece.\n",
    "    score: El número de % que se acercan.\n",
    "\n",
    "    \"\"\"\n",
    "    match, score = process.extractOne(origin, choices)\n",
    "    return match, score\n",
    "\n",
    "\n",
    "\n",
    "apt_names = combined_airport_traffic_apt_name.tolist()\n",
    "\n",
    "\n",
    "\n",
    "\n",
    "spain_flights2[\"Best_pair_Origin\"] = spain_flights2[\"Origin\"].apply(lambda x:get_best_match(x,apt_names))\n",
    "spain_flights2[\"Best_pair_Destination\"] = spain_flights2[\"Destination\"].apply(lambda x:get_best_match(x,apt_names))\n",
    "\n",
    "\n",
    "spain_flights2[[\"Best_Match_Origin\",\"Score_Origin\"]] = spain_flights2[\"Best_pair_Origin\"].apply(pd.Series)\n",
    "spain_flights2[[\"Best_Match_Destination\",\"Score_Destination\"]] = spain_flights2[\"Best_pair_Destination\"].apply(pd.Series)"
   ]
  },
  {
   "cell_type": "code",
   "execution_count": 14,
   "metadata": {},
   "outputs": [],
   "source": [
    "spain_flights3 = spain_flights2.copy()\n",
    "spain_flights3[\"Flight_Type\"] = \"I\"\n",
    "spain_flights3.loc[\n",
    "spain_flights3[\"Destination\"].isin(spain_flights2[\"Origin\"].tolist()),\"Flight_Type\"] = 'D'\n",
    "\n",
    "\n",
    "spain_flights3.drop(columns=[\"LEG\",\"leg_check\",\"Best_pair_Origin\",\"Best_pair_Destination\",\"Best_Match_Origin\",\"Best_Match_Destination\",\"Score_Origin\",\"Score_Destination\"], inplace=True)\n",
    "\n",
    "spain_passangers = spain_flights3.melt(id_vars=['Origin', 'Destination','Flight_Type'],  var_name='Month_Year', value_name='Value')\n",
    "spain_passangers_type = pd.pivot_table(spain_passangers, index = [\"Origin\", \"Destination\",\"Month_Year\"], columns= \"Flight_Type\", values= \"Value\", aggfunc=\"sum\").reset_index().fillna(0)\n",
    "\n"
   ]
  },
  {
   "cell_type": "code",
   "execution_count": 15,
   "metadata": {},
   "outputs": [],
   "source": [
    "spain_passangers_type_iata = spain_passangers_type.merge(spanish_arrivals, how=\"left\" ,left_on=[\"Origin\", \"Month_Year\"], right_on=[\"APT_NAME\",\"YEAR_MONTH\"])\n",
    "spain_passangers_type_iata = spain_passangers_type_iata.merge(airport_taxes_df, how = \"left\", left_on=\"IATA\", right_on = \"IATA\")"
   ]
  },
  {
   "cell_type": "code",
   "execution_count": 16,
   "metadata": {},
   "outputs": [],
   "source": [
    "columns =[\"Origin\", \"Month_Year\",\"D\",\"I\",\"YEAR\",\"YEAR_MONTH\",\"APT_NAME\",\"IATA\",\"Airport\",\"YR\",\"Security (National)\",\"Security(International)\"]\n",
    "spain_passangers_type_iata = spain_passangers_type_iata[columns]\n",
    "spain_passangers_type_iata.drop_duplicates(inplace=True)\n",
    "\n",
    "spain_passangers_type_iata[\"National_tax\"] = (spain_passangers_type_iata[\"YR\"] + spain_passangers_type_iata[\"Security (National)\"]) * spain_passangers_type_iata[\"D\"]\n",
    "spain_passangers_type_iata[\"International_tax\"] = (spain_passangers_type_iata[\"YR\"] + spain_passangers_type_iata[\"Security(International)\"]) * spain_passangers_type_iata[\"I\"]"
   ]
  },
  {
   "cell_type": "code",
   "execution_count": 17,
   "metadata": {},
   "outputs": [],
   "source": [
    "tax_by_year = (pd.pivot_table(spain_passangers_type_iata, index=\"YEAR\",values=[\"National_tax\",\"International_tax\"], aggfunc=\"sum\")/1000000).round(2)"
   ]
  },
  {
   "cell_type": "code",
   "execution_count": 18,
   "metadata": {},
   "outputs": [
    {
     "data": {
      "image/png": "[encoded data removed]",
      "text/plain": [
       "<Figure size 1200x700 with 1 Axes>"
      ]
     },
     "metadata": {},
     "output_type": "display_data"
    }
   ],
   "source": [
    "import matplotlib.pyplot as plt\n",
    "import seaborn as sns\n",
    "\n",
    "# Use a Seaborn style for better aesthetics\n",
    "sns.set_style(\"whitegrid\")\n",
    "\n",
    "# Define a color palette for the bars\n",
    "colors = [\"#3498db\", \"#e74c3c\"]  # Blue for National Tax, Red for International Tax\n",
    "\n",
    "# Plotting the bar chart\n",
    "ax = tax_by_year.plot(kind='bar', \n",
    "                      figsize=(12, 7), \n",
    "                      color=colors,\n",
    "                      edgecolor='black',  # Add edge color for a refined look\n",
    "                      width=0.8)  # Adjust bar width for balance\n",
    "\n",
    "# Adding title and labels with styling\n",
    "plt.title('National and International Taxes by Year (in Millions €)', fontsize=16, weight='bold')\n",
    "plt.xlabel('Year', fontsize=14)\n",
    "plt.ylabel('Tax Amount (in Millions €)', fontsize=14)\n",
    "\n",
    "# Rotate x-axis labels for better readability and adjust font size\n",
    "plt.xticks(rotation=45, fontsize=12)\n",
    "plt.yticks(fontsize=12)\n",
    "\n",
    "# Adding data labels on top of each bar\n",
    "for container in ax.containers:\n",
    "    ax.bar_label(container, label_type='edge', fontsize=10, color='black', padding=3, fmt='%.2f')\n",
    "\n",
    "# Legend customization\n",
    "plt.legend(title='Tax Type', fontsize=12, title_fontsize='13')\n",
    "\n",
    "# Lighter gridlines for better readability\n",
    "plt.grid(axis='y', linestyle='--', linewidth=0.5, color='gray')\n",
    "\n",
    "# Adjust layout to fit everything nicely\n",
    "plt.tight_layout()\n",
    "\n",
    "# Show the plot\n",
    "plt.show()\n"
   ]
  },
  {
   "cell_type": "code",
   "execution_count": 133,
   "metadata": {},
   "outputs": [],
   "source": [
    "spain_flights = combined_airport_traffic_df.loc[combined_airport_traffic_df[\"STATE_NAME\"] == \"Spain\"]\n",
    "spain_flights_pivot = pd.pivot_table(spain_flights,index = \"YEAR\", values = [\"FLT_DEP_1\",\"FLT_ARR_1\"], aggfunc=\"sum\")/1000"
   ]
  },
  {
   "cell_type": "code",
   "execution_count": 134,
   "metadata": {},
   "outputs": [
    {
     "data": {
      "text/html": [
       "<div>\n",
       "<style scoped>\n",
       "    .dataframe tbody tr th:only-of-type {\n",
       "        vertical-align: middle;\n",
       "    }\n",
       "\n",
       "    .dataframe tbody tr th {\n",
       "        vertical-align: top;\n",
       "    }\n",
       "\n",
       "    .dataframe thead th {\n",
       "        text-align: right;\n",
       "    }\n",
       "</style>\n",
       "<table border=\"1\" class=\"dataframe\">\n",
       "  <thead>\n",
       "    <tr style=\"text-align: right;\">\n",
       "      <th></th>\n",
       "      <th>FLT_ARR_1</th>\n",
       "      <th>FLT_DEP_1</th>\n",
       "    </tr>\n",
       "    <tr>\n",
       "      <th>YEAR</th>\n",
       "      <th></th>\n",
       "      <th></th>\n",
       "    </tr>\n",
       "  </thead>\n",
       "  <tbody>\n",
       "    <tr>\n",
       "      <th>2016</th>\n",
       "      <td>927.443</td>\n",
       "      <td>927.670</td>\n",
       "    </tr>\n",
       "    <tr>\n",
       "      <th>2017</th>\n",
       "      <td>980.719</td>\n",
       "      <td>980.831</td>\n",
       "    </tr>\n",
       "    <tr>\n",
       "      <th>2018</th>\n",
       "      <td>1036.031</td>\n",
       "      <td>1036.001</td>\n",
       "    </tr>\n",
       "    <tr>\n",
       "      <th>2019</th>\n",
       "      <td>1058.898</td>\n",
       "      <td>1059.104</td>\n",
       "    </tr>\n",
       "    <tr>\n",
       "      <th>2020</th>\n",
       "      <td>447.367</td>\n",
       "      <td>447.505</td>\n",
       "    </tr>\n",
       "    <tr>\n",
       "      <th>2021</th>\n",
       "      <td>627.283</td>\n",
       "      <td>627.167</td>\n",
       "    </tr>\n",
       "    <tr>\n",
       "      <th>2022</th>\n",
       "      <td>977.094</td>\n",
       "      <td>977.050</td>\n",
       "    </tr>\n",
       "    <tr>\n",
       "      <th>2023</th>\n",
       "      <td>1061.570</td>\n",
       "      <td>1061.549</td>\n",
       "    </tr>\n",
       "    <tr>\n",
       "      <th>2024</th>\n",
       "      <td>870.262</td>\n",
       "      <td>870.251</td>\n",
       "    </tr>\n",
       "  </tbody>\n",
       "</table>\n",
       "</div>"
      ],
      "text/plain": [
       "      FLT_ARR_1  FLT_DEP_1\n",
       "YEAR                      \n",
       "2016    927.443    927.670\n",
       "2017    980.719    980.831\n",
       "2018   1036.031   1036.001\n",
       "2019   1058.898   1059.104\n",
       "2020    447.367    447.505\n",
       "2021    627.283    627.167\n",
       "2022    977.094    977.050\n",
       "2023   1061.570   1061.549\n",
       "2024    870.262    870.251"
      ]
     },
     "execution_count": 134,
     "metadata": {},
     "output_type": "execute_result"
    }
   ],
   "source": [
    "spain_flights_pivot"
   ]
  },
  {
   "cell_type": "code",
   "execution_count": 20,
   "metadata": {},
   "outputs": [
    {
     "data": {
      "image/png": "[encoded data removed]",
      "text/plain": [
       "<Figure size 1000x600 with 1 Axes>"
      ]
     },
     "metadata": {},
     "output_type": "display_data"
    }
   ],
   "source": [
    "import matplotlib.pyplot as plt\n",
    "import numpy as np\n",
    "\n",
    "# Assuming combined_airport_traffic_df is already defined and available\n",
    "spain_flights = combined_airport_traffic_df.loc[combined_airport_traffic_df[\"STATE_NAME\"] == \"Spain\"]\n",
    "spain_flights_pivot = (pd.pivot_table(spain_flights, \n",
    "                                      index=\"YEAR\", \n",
    "                                      values=[\"FLT_DEP_1\", \"FLT_ARR_1\"], \n",
    "                                      aggfunc=\"sum\") / 1000).round(2)\n",
    "\n",
    "# Plotting the grouped bar chart\n",
    "fig, ax = plt.subplots(figsize=(10, 6))\n",
    "bar_width = 0.35  # Width of the bars\n",
    "\n",
    "# X locations for the groups\n",
    "years = spain_flights_pivot.index\n",
    "index = np.arange(len(years))\n",
    "\n",
    "# Plotting departures and arrivals as separate bar groups\n",
    "bar1 = ax.bar(index - bar_width / 2, spain_flights_pivot[\"FLT_DEP_1\"], bar_width, label=\"Departures (in 1000s)\", color=\"#ff9999\")\n",
    "bar2 = ax.bar(index + bar_width / 2, spain_flights_pivot[\"FLT_ARR_1\"], bar_width, label=\"Arrivals (in 1000s)\", color=\"#66b3ff\")\n",
    "\n",
    "# Adding title and labels\n",
    "ax.set_title('Flight Departures and Arrivals by Year in Spain (in Thousands)')\n",
    "ax.set_xlabel('Year')\n",
    "ax.set_ylabel('Number of Flights (in Thousands)')\n",
    "ax.set_xticks(index)\n",
    "ax.set_xticklabels(years, rotation=45)  # Rotate x-axis labels for readability\n",
    "ax.legend()\n",
    "\n",
    "# Displaying the plot\n",
    "plt.tight_layout()\n",
    "plt.grid(axis='y', linestyle='--', alpha=0.7)  # Optional: Add gridlines for better readability\n",
    "plt.show()\n"
   ]
  },
  {
   "cell_type": "code",
   "execution_count": 21,
   "metadata": {},
   "outputs": [
    {
     "data": {
      "text/html": [
       "<div>\n",
       "<style scoped>\n",
       "    .dataframe tbody tr th:only-of-type {\n",
       "        vertical-align: middle;\n",
       "    }\n",
       "\n",
       "    .dataframe tbody tr th {\n",
       "        vertical-align: top;\n",
       "    }\n",
       "\n",
       "    .dataframe thead th {\n",
       "        text-align: right;\n",
       "    }\n",
       "</style>\n",
       "<table border=\"1\" class=\"dataframe\">\n",
       "  <thead>\n",
       "    <tr style=\"text-align: right;\">\n",
       "      <th></th>\n",
       "      <th>FLT_ARR_1</th>\n",
       "      <th>FLT_DEP_1</th>\n",
       "    </tr>\n",
       "    <tr>\n",
       "      <th>YEAR</th>\n",
       "      <th></th>\n",
       "      <th></th>\n",
       "    </tr>\n",
       "  </thead>\n",
       "  <tbody>\n",
       "    <tr>\n",
       "      <th>2016</th>\n",
       "      <td>927.44</td>\n",
       "      <td>927.67</td>\n",
       "    </tr>\n",
       "    <tr>\n",
       "      <th>2017</th>\n",
       "      <td>980.72</td>\n",
       "      <td>980.83</td>\n",
       "    </tr>\n",
       "    <tr>\n",
       "      <th>2018</th>\n",
       "      <td>1036.03</td>\n",
       "      <td>1036.00</td>\n",
       "    </tr>\n",
       "    <tr>\n",
       "      <th>2019</th>\n",
       "      <td>1058.90</td>\n",
       "      <td>1059.10</td>\n",
       "    </tr>\n",
       "    <tr>\n",
       "      <th>2020</th>\n",
       "      <td>447.37</td>\n",
       "      <td>447.50</td>\n",
       "    </tr>\n",
       "    <tr>\n",
       "      <th>2021</th>\n",
       "      <td>627.28</td>\n",
       "      <td>627.17</td>\n",
       "    </tr>\n",
       "    <tr>\n",
       "      <th>2022</th>\n",
       "      <td>977.09</td>\n",
       "      <td>977.05</td>\n",
       "    </tr>\n",
       "    <tr>\n",
       "      <th>2023</th>\n",
       "      <td>1061.57</td>\n",
       "      <td>1061.55</td>\n",
       "    </tr>\n",
       "    <tr>\n",
       "      <th>2024</th>\n",
       "      <td>870.26</td>\n",
       "      <td>870.25</td>\n",
       "    </tr>\n",
       "  </tbody>\n",
       "</table>\n",
       "</div>"
      ],
      "text/plain": [
       "      FLT_ARR_1  FLT_DEP_1\n",
       "YEAR                      \n",
       "2016     927.44     927.67\n",
       "2017     980.72     980.83\n",
       "2018    1036.03    1036.00\n",
       "2019    1058.90    1059.10\n",
       "2020     447.37     447.50\n",
       "2021     627.28     627.17\n",
       "2022     977.09     977.05\n",
       "2023    1061.57    1061.55\n",
       "2024     870.26     870.25"
      ]
     },
     "execution_count": 21,
     "metadata": {},
     "output_type": "execute_result"
    }
   ],
   "source": [
    "spain_flights_pivot"
   ]
  },
  {
   "cell_type": "code",
   "execution_count": 22,
   "metadata": {},
   "outputs": [],
   "source": [
    "spain_flights_2024 = spain_flights.loc[spain_flights[\"YEAR\"] == 2024] \n",
    "average_daily_flights = pd.pivot_table(spain_flights_2024, index = [\"APT_NAME\",\"IATA\"], values = \"FLT_DEP_1\" ,aggfunc=\"mean\").sort_values(by = \"FLT_DEP_1\", ascending=False ).round(0).head(30)"
   ]
  },
  {
   "cell_type": "code",
   "execution_count": 26,
   "metadata": {},
   "outputs": [
    {
     "name": "stderr",
     "output_type": "stream",
     "text": [
      "/var/folders/6g/dhv5ylld76zgp_63c85rplcc0000gn/T/ipykernel_1374/3946926990.py:18: MatplotlibDeprecationWarning: The seaborn styles shipped by Matplotlib are deprecated since 3.6, as they no longer correspond to the styles shipped by seaborn. However, they will remain available as 'seaborn-v0_8-<style>'. Alternatively, directly use the seaborn API instead.\n",
      "  plt.style.use('seaborn-whitegrid')\n"
     ]
    },
    {
     "data": {
      "image/png": "[encoded data removed]",
      "text/plain": [
       "<Figure size 1200x1000 with 1 Axes>"
      ]
     },
     "metadata": {},
     "output_type": "display_data"
    }
   ],
   "source": [
    "import pandas as pd\n",
    "import matplotlib.pyplot as plt\n",
    "import seaborn as sns\n",
    "\n",
    "# Assuming spain_flights_2023 is already defined and available\n",
    "# Create a pivot table of average daily departures by airport, sorted by FLT_DEP_1\n",
    "average_daily_flights = (\n",
    "    pd.pivot_table(spain_flights_2024, \n",
    "                   index=[\"APT_NAME\", \"IATA\"], \n",
    "                   values=\"FLT_DEP_1\", \n",
    "                   aggfunc=\"mean\")\n",
    "    .sort_values(by=\"FLT_DEP_1\", ascending=False)\n",
    "    .round(0)\n",
    "    .head(30)\n",
    ")\n",
    "\n",
    "# Set a style and color palette for a more polished look with reversed colors\n",
    "plt.style.use('seaborn-whitegrid')\n",
    "colors = sns.color_palette(\"coolwarm\", len(average_daily_flights))[::-1]  # Reversing the color order\n",
    "\n",
    "# Plotting the horizontal bar chart\n",
    "fig, ax = plt.subplots(figsize=(12, 10))\n",
    "bars = ax.barh(\n",
    "    average_daily_flights.index.get_level_values(0), \n",
    "    average_daily_flights[\"FLT_DEP_1\"], \n",
    "    color=colors, \n",
    "    edgecolor='gray'\n",
    ")\n",
    "\n",
    "# Adding title and labels with custom font sizes\n",
    "ax.set_title('Top 30 Airports in Spain by Average Daily Departures (2024)', fontsize=16, weight='bold')\n",
    "ax.set_xlabel('Average Daily Departures', fontsize=14)\n",
    "ax.set_ylabel('Airport (IATA Code)', fontsize=14)\n",
    "ax.invert_yaxis()  # Invert y-axis to display the highest values at the top\n",
    "\n",
    "# Add gridlines for x-axis for better readability\n",
    "ax.xaxis.grid(True, linestyle='--', alpha=0.7)\n",
    "\n",
    "# Add value labels to each bar\n",
    "for bar in bars:\n",
    "    ax.text(\n",
    "        bar.get_width() + 0.5,  # Position the text slightly to the right of the bar\n",
    "        bar.get_y() + bar.get_height() / 2,  # Center the text vertically in the bar\n",
    "        f'{int(bar.get_width())}',  # Display the value as an integer\n",
    "        va='center', ha='left', fontsize=12, color='black'\n",
    "    )\n",
    "\n",
    "# Adjust layout to fit everything neatly\n",
    "plt.tight_layout()\n",
    "plt.show()\n"
   ]
  },
  {
   "cell_type": "code",
   "execution_count": 27,
   "metadata": {},
   "outputs": [],
   "source": [
    "average_daily_dept_arriv = pd.pivot_table(spain_flights, index = [\"APT_NAME\",\"IATA\"],columns=\"YEAR\",values = \"FLT_TOT_1\" ,aggfunc=\"mean\").fillna(0)"
   ]
  },
  {
   "cell_type": "code",
   "execution_count": 28,
   "metadata": {},
   "outputs": [],
   "source": [
    "# Assuming spain_flights is your original DataFrame with flight data\n",
    "\n",
    "# Create the pivot table with average daily departures\n",
    "average_daily_dept_arriv = pd.pivot_table(\n",
    "    spain_flights,\n",
    "    index=[\"APT_NAME\", \"IATA\"],\n",
    "    columns=\"YEAR\",\n",
    "    values=\"FLT_TOT_1\",\n",
    "    aggfunc=\"mean\"\n",
    ").fillna(0)\n",
    "\n",
    "# Calculate the YoY difference specifically between 2023 and 2019\n",
    "if 2023 in average_daily_dept_arriv.columns and 2019 in average_daily_dept_arriv.columns:\n",
    "    average_daily_dept_arriv['YoY_2023_vs_2019'] = average_daily_dept_arriv[2023] - average_daily_dept_arriv[2019]\n",
    "else:\n",
    "    raise ValueError(\"One or both of the years 2023 and 2019 are not present in the data.\")\n",
    "\n",
    "# Calculate the YoY difference specifically between 2024 and 2019\n",
    "if 2024 in average_daily_dept_arriv.columns and 2019 in average_daily_dept_arriv.columns:\n",
    "    average_daily_dept_arriv['YoY_2024_vs_2019'] = average_daily_dept_arriv[2024] - average_daily_dept_arriv[2019]\n",
    "else:\n",
    "    raise ValueError(\"One or both of the years 2024 and 2019 are not present in the data.\")\n",
    "\n",
    "# Calculate the YoY difference specifically between 2024 and 2020\n",
    "if 2024 in average_daily_dept_arriv.columns and 2020 in average_daily_dept_arriv.columns:\n",
    "    average_daily_dept_arriv['YoY_2024_vs_2020'] = average_daily_dept_arriv[2024] - average_daily_dept_arriv[2020]\n",
    "else:\n",
    "    raise ValueError(\"One or both of the years 2024 and 2020 are not present in the data.\")\n",
    "\n",
    "# Reset index to convert index levels back to columns\n",
    "average_daily_dept_arriv.reset_index(inplace=True)\n",
    "\n",
    "# Select only the desired columns\n",
    "result_columns = [\"APT_NAME\", \"IATA\", 2024, \"YoY_2024_vs_2019\"]\n",
    "average_daily_dept_arriv_selected = average_daily_dept_arriv[result_columns]\n",
    "\n",
    "state_traffic = average_daily_dept_arriv_selected.round(0).sort_values(by = 2024, ascending=False)\n",
    "\n"
   ]
  },
  {
   "cell_type": "code",
   "execution_count": 128,
   "metadata": {},
   "outputs": [
    {
     "name": "stderr",
     "output_type": "stream",
     "text": [
      "/var/folders/6g/dhv5ylld76zgp_63c85rplcc0000gn/T/ipykernel_1374/680654401.py:29: SettingWithCopyWarning:\n",
      "\n",
      "\n",
      "A value is trying to be set on a copy of a slice from a DataFrame\n",
      "\n",
      "See the caveats in the documentation: https://pandas.pydata.org/pandas-docs/stable/user_guide/indexing.html#returning-a-view-versus-a-copy\n",
      "\n"
     ]
    },
    {
     "data": {
      "application/vnd.plotly.v1+json": {
       "config": {
        "plotlyServerURL": "https://plot.ly"
       },
       "data": [
        {
         "cells": {
          "align": "left",
          "fill": {
           "color": [
            [
             "paleturquoise",
             "paleturquoise",
             "paleturquoise",
             "paleturquoise",
             "paleturquoise",
             "paleturquoise",
             "paleturquoise",
             "paleturquoise",
             "paleturquoise",
             "paleturquoise",
             "paleturquoise",
             "paleturquoise",
             "paleturquoise",
             "paleturquoise",
             "paleturquoise",
             "paleturquoise",
             "paleturquoise",
             "paleturquoise",
             "paleturquoise",
             "paleturquoise",
             "paleturquoise",
             "paleturquoise",
             "paleturquoise",
             "paleturquoise",
             "paleturquoise",
             "paleturquoise",
             "paleturquoise",
             "paleturquoise",
             "paleturquoise",
             "paleturquoise",
             "paleturquoise",
             "paleturquoise",
             "paleturquoise",
             "paleturquoise",
             "paleturquoise",
             "paleturquoise",
             "paleturquoise",
             "paleturquoise",
             "paleturquoise",
             "paleturquoise",
             "paleturquoise",
             "paleturquoise",
             "paleturquoise",
             "paleturquoise",
             "paleturquoise",
             "paleturquoise",
             "paleturquoise",
             "paleturquoise",
             "paleturquoise",
             "paleturquoise",
             "paleturquoise",
             "paleturquoise",
             "paleturquoise",
             "paleturquoise",
             "paleturquoise"
            ],
            [
             "paleturquoise",
             "paleturquoise",
             "paleturquoise",
             "paleturquoise",
             "paleturquoise",
             "paleturquoise",
             "paleturquoise",
             "paleturquoise",
             "paleturquoise",
             "paleturquoise",
             "paleturquoise",
             "paleturquoise",
             "paleturquoise",
             "paleturquoise",
             "paleturquoise",
             "paleturquoise",
             "paleturquoise",
             "paleturquoise",
             "paleturquoise",
             "paleturquoise",
             "paleturquoise",
             "paleturquoise",
             "paleturquoise",
             "paleturquoise",
             "paleturquoise",
             "paleturquoise",
             "paleturquoise",
             "paleturquoise",
             "paleturquoise",
             "paleturquoise",
             "paleturquoise",
             "paleturquoise",
             "paleturquoise",
             "paleturquoise",
             "paleturquoise",
             "paleturquoise",
             "paleturquoise",
             "paleturquoise",
             "paleturquoise",
             "paleturquoise",
             "paleturquoise",
             "paleturquoise",
             "paleturquoise",
             "paleturquoise",
             "paleturquoise",
             "paleturquoise",
             "paleturquoise",
             "paleturquoise",
             "paleturquoise",
             "paleturquoise",
             "paleturquoise",
             "paleturquoise",
             "paleturquoise",
             "paleturquoise",
             "paleturquoise"
            ],
            [
             "paleturquoise",
             "paleturquoise",
             "paleturquoise",
             "paleturquoise",
             "paleturquoise",
             "paleturquoise",
             "paleturquoise",
             "paleturquoise",
             "paleturquoise",
             "paleturquoise",
             "paleturquoise",
             "paleturquoise",
             "paleturquoise",
             "paleturquoise",
             "paleturquoise",
             "paleturquoise",
             "paleturquoise",
             "paleturquoise",
             "paleturquoise",
             "paleturquoise",
             "paleturquoise",
             "paleturquoise",
             "paleturquoise",
             "paleturquoise",
             "paleturquoise",
             "paleturquoise",
             "paleturquoise",
             "paleturquoise",
             "paleturquoise",
             "paleturquoise",
             "paleturquoise",
             "paleturquoise",
             "paleturquoise",
             "paleturquoise",
             "paleturquoise",
             "paleturquoise",
             "paleturquoise",
             "paleturquoise",
             "paleturquoise",
             "paleturquoise",
             "paleturquoise",
             "paleturquoise",
             "paleturquoise",
             "paleturquoise",
             "paleturquoise",
             "paleturquoise",
             "paleturquoise",
             "paleturquoise",
             "paleturquoise",
             "paleturquoise",
             "paleturquoise",
             "paleturquoise",
             "paleturquoise",
             "paleturquoise",
             "paleturquoise"
            ],
            [
             "red",
             "green",
             "green",
             "green",
             "green",
             "green",
             "green",
             "green",
             "green",
             "green",
             "green",
             "green",
             "green",
             "green",
             "green",
             "green",
             "green",
             "green",
             "green",
             "green",
             "green",
             "green",
             "green",
             "red",
             "red",
             "green",
             "green",
             "green",
             "red",
             "red",
             "green",
             "green",
             "red",
             "green",
             "red",
             "red",
             "red",
             "green",
             "green",
             "green",
             "green",
             "red",
             "green",
             "green",
             "red",
             "green",
             "green",
             "red",
             "green",
             "red",
             "red",
             "red",
             "green",
             "red",
             "green"
            ]
           ]
          },
          "values": [
           [
            "Madrid - Barajas",
            "Barcelona",
            "Palma de Mallorca",
            "Málaga",
            "Gran Canaria",
            "Alicante",
            "Ibiza",
            "Valencia",
            "Tenerife Sur - Reina Sofia",
            "Tenerife North",
            "Lanzarote",
            "Sevilla",
            "Bilbao",
            "Fuerteventura",
            "Mahon",
            "Santiago",
            "La Palma",
            "Gerona",
            "Jerez De La Frontera",
            "Asturias",
            "Reus",
            "Vitoria",
            "Melilla",
            "La Coruna",
            "Granada",
            "Vigo",
            "Santander",
            "Zaragoza",
            "Almeria",
            "Región de Murcia International Airport",
            "Hierro",
            "Rota",
            "San Sebastian",
            "Madrid - Cuatro Viento",
            "Seville - Moron",
            "Salamanca Matalan",
            "Noain Pamplona",
            "Valladolid",
            "La Gomera",
            "Badajoz",
            "Sabadell",
            "Lleida - Alguaire",
            "Madrid - Torrejon",
            "Leon",
            "Madrid - Getafe",
            "Burgos",
            "Son Bonet",
            "Albacete",
            "Logrono",
            "Cordoba",
            "Murcia San Javier",
            "Abad",
            "Palma - Son San Juan",
            "Ciudad Real Central",
            "Valencia - Requena"
           ],
           [
            "MAD",
            "BCN",
            "PMI",
            "AGP",
            "LPA",
            "ALC",
            "IBZ",
            "VLC",
            "TFS",
            "TFN",
            "ACE",
            "SVQ",
            "BIO",
            "FUE",
            "MAH",
            "SCQ",
            "SPC",
            "GRO",
            "XRY",
            "OVD",
            "REU",
            "VIT",
            "MLN",
            "LCG",
            "GRX",
            "VGO",
            "SDR",
            "ZAZ",
            "LEI",
            "RMU",
            "VDE",
            "ROV",
            "EAS",
            "CUY",
            "RZO",
            "SJI",
            "PNA",
            "VLL",
            "GMZ",
            "BZG",
            "LEI",
            "DRS",
            "TYN",
            "LNZ",
            "GTY",
            "BGY",
            "SLW",
            "AUR",
            "RJK",
            "BAP",
            "MJV",
            "ZAG",
            "SEJ",
            "LRL",
            "RVS"
           ],
           [
            1150,
            962,
            717,
            477,
            369,
            321,
            249,
            229,
            226,
            212,
            191,
            175,
            137,
            136,
            111,
            72,
            63,
            51,
            48,
            41,
            31,
            30,
            30,
            28,
            28,
            27,
            27,
            25,
            25,
            20,
            16,
            16,
            15,
            10,
            10,
            10,
            10,
            9,
            8,
            8,
            7,
            6,
            5,
            4,
            4,
            4,
            3,
            3,
            3,
            2,
            2,
            2,
            2,
            2,
            2
           ],
           [
            -17,
            18,
            123,
            91,
            29,
            44,
            48,
            30,
            38,
            13,
            29,
            14,
            3,
            9,
            25,
            14,
            3,
            7,
            7,
            7,
            8,
            4,
            4,
            -4,
            -3,
            1,
            2,
            2,
            -1,
            -2,
            3,
            4,
            0,
            2,
            -4,
            -1,
            -2,
            1,
            3,
            1,
            1,
            -3,
            0,
            0,
            -1,
            1,
            1,
            -1,
            0,
            0,
            -1,
            0,
            0,
            0,
            0
           ]
          ]
         },
         "header": {
          "align": "left",
          "fill": {
           "color": "paleturquoise"
          },
          "values": [
           "Airport Name",
           "IATA Code",
           "Mean Flights(D/A) 2024",
           "YoY 2024 vs 2019"
          ]
         },
         "type": "table"
        }
       ],
       "layout": {
        "height": 400,
        "template": {
         "data": {
          "bar": [
           {
            "error_x": {
             "color": "#2a3f5f"
            },
            "error_y": {
             "color": "#2a3f5f"
            },
            "marker": {
             "line": {
              "color": "#E5ECF6",
              "width": 0.5
             },
             "pattern": {
              "fillmode": "overlay",
              "size": 10,
              "solidity": 0.2
             }
            },
            "type": "bar"
           }
          ],
          "barpolar": [
           {
            "marker": {
             "line": {
              "color": "#E5ECF6",
              "width": 0.5
             },
             "pattern": {
              "fillmode": "overlay",
              "size": 10,
              "solidity": 0.2
             }
            },
            "type": "barpolar"
           }
          ],
          "carpet": [
           {
            "aaxis": {
             "endlinecolor": "#2a3f5f",
             "gridcolor": "white",
             "linecolor": "white",
             "minorgridcolor": "white",
             "startlinecolor": "#2a3f5f"
            },
            "baxis": {
             "endlinecolor": "#2a3f5f",
             "gridcolor": "white",
             "linecolor": "white",
             "minorgridcolor": "white",
             "startlinecolor": "#2a3f5f"
            },
            "type": "carpet"
           }
          ],
          "choropleth": [
           {
            "colorbar": {
             "outlinewidth": 0,
             "ticks": ""
            },
            "type": "choropleth"
           }
          ],
          "contour": [
           {
            "colorbar": {
             "outlinewidth": 0,
             "ticks": ""
            },
            "colorscale": [
             [
              0,
              "#0d0887"
             ],
             [
              0.1111111111111111,
              "#46039f"
             ],
             [
              0.2222222222222222,
              "#7201a8"
             ],
             [
              0.3333333333333333,
              "#9c179e"
             ],
             [
              0.4444444444444444,
              "#bd3786"
             ],
             [
              0.5555555555555556,
              "#d8576b"
             ],
             [
              0.6666666666666666,
              "#ed7953"
             ],
             [
              0.7777777777777778,
              "#fb9f3a"
             ],
             [
              0.8888888888888888,
              "#fdca26"
             ],
             [
              1,
              "#f0f921"
             ]
            ],
            "type": "contour"
           }
          ],
          "contourcarpet": [
           {
            "colorbar": {
             "outlinewidth": 0,
             "ticks": ""
            },
            "type": "contourcarpet"
           }
          ],
          "heatmap": [
           {
            "colorbar": {
             "outlinewidth": 0,
             "ticks": ""
            },
            "colorscale": [
             [
              0,
              "#0d0887"
             ],
             [
              0.1111111111111111,
              "#46039f"
             ],
             [
              0.2222222222222222,
              "#7201a8"
             ],
             [
              0.3333333333333333,
              "#9c179e"
             ],
             [
              0.4444444444444444,
              "#bd3786"
             ],
             [
              0.5555555555555556,
              "#d8576b"
             ],
             [
              0.6666666666666666,
              "#ed7953"
             ],
             [
              0.7777777777777778,
              "#fb9f3a"
             ],
             [
              0.8888888888888888,
              "#fdca26"
             ],
             [
              1,
              "#f0f921"
             ]
            ],
            "type": "heatmap"
           }
          ],
          "heatmapgl": [
           {
            "colorbar": {
             "outlinewidth": 0,
             "ticks": ""
            },
            "colorscale": [
             [
              0,
              "#0d0887"
             ],
             [
              0.1111111111111111,
              "#46039f"
             ],
             [
              0.2222222222222222,
              "#7201a8"
             ],
             [
              0.3333333333333333,
              "#9c179e"
             ],
             [
              0.4444444444444444,
              "#bd3786"
             ],
             [
              0.5555555555555556,
              "#d8576b"
             ],
             [
              0.6666666666666666,
              "#ed7953"
             ],
             [
              0.7777777777777778,
              "#fb9f3a"
             ],
             [
              0.8888888888888888,
              "#fdca26"
             ],
             [
              1,
              "#f0f921"
             ]
            ],
            "type": "heatmapgl"
           }
          ],
          "histogram": [
           {
            "marker": {
             "pattern": {
              "fillmode": "overlay",
              "size": 10,
              "solidity": 0.2
             }
            },
            "type": "histogram"
           }
          ],
          "histogram2d": [
           {
            "colorbar": {
             "outlinewidth": 0,
             "ticks": ""
            },
            "colorscale": [
             [
              0,
              "#0d0887"
             ],
             [
              0.1111111111111111,
              "#46039f"
             ],
             [
              0.2222222222222222,
              "#7201a8"
             ],
             [
              0.3333333333333333,
              "#9c179e"
             ],
             [
              0.4444444444444444,
              "#bd3786"
             ],
             [
              0.5555555555555556,
              "#d8576b"
             ],
             [
              0.6666666666666666,
              "#ed7953"
             ],
             [
              0.7777777777777778,
              "#fb9f3a"
             ],
             [
              0.8888888888888888,
              "#fdca26"
             ],
             [
              1,
              "#f0f921"
             ]
            ],
            "type": "histogram2d"
           }
          ],
          "histogram2dcontour": [
           {
            "colorbar": {
             "outlinewidth": 0,
             "ticks": ""
            },
            "colorscale": [
             [
              0,
              "#0d0887"
             ],
             [
              0.1111111111111111,
              "#46039f"
             ],
             [
              0.2222222222222222,
              "#7201a8"
             ],
             [
              0.3333333333333333,
              "#9c179e"
             ],
             [
              0.4444444444444444,
              "#bd3786"
             ],
             [
              0.5555555555555556,
              "#d8576b"
             ],
             [
              0.6666666666666666,
              "#ed7953"
             ],
             [
              0.7777777777777778,
              "#fb9f3a"
             ],
             [
              0.8888888888888888,
              "#fdca26"
             ],
             [
              1,
              "#f0f921"
             ]
            ],
            "type": "histogram2dcontour"
           }
          ],
          "mesh3d": [
           {
            "colorbar": {
             "outlinewidth": 0,
             "ticks": ""
            },
            "type": "mesh3d"
           }
          ],
          "parcoords": [
           {
            "line": {
             "colorbar": {
              "outlinewidth": 0,
              "ticks": ""
             }
            },
            "type": "parcoords"
           }
          ],
          "pie": [
           {
            "automargin": true,
            "type": "pie"
           }
          ],
          "scatter": [
           {
            "fillpattern": {
             "fillmode": "overlay",
             "size": 10,
             "solidity": 0.2
            },
            "type": "scatter"
           }
          ],
          "scatter3d": [
           {
            "line": {
             "colorbar": {
              "outlinewidth": 0,
              "ticks": ""
             }
            },
            "marker": {
             "colorbar": {
              "outlinewidth": 0,
              "ticks": ""
             }
            },
            "type": "scatter3d"
           }
          ],
          "scattercarpet": [
           {
            "marker": {
             "colorbar": {
              "outlinewidth": 0,
              "ticks": ""
             }
            },
            "type": "scattercarpet"
           }
          ],
          "scattergeo": [
           {
            "marker": {
             "colorbar": {
              "outlinewidth": 0,
              "ticks": ""
             }
            },
            "type": "scattergeo"
           }
          ],
          "scattergl": [
           {
            "marker": {
             "colorbar": {
              "outlinewidth": 0,
              "ticks": ""
             }
            },
            "type": "scattergl"
           }
          ],
          "scattermapbox": [
           {
            "marker": {
             "colorbar": {
              "outlinewidth": 0,
              "ticks": ""
             }
            },
            "type": "scattermapbox"
           }
          ],
          "scatterpolar": [
           {
            "marker": {
             "colorbar": {
              "outlinewidth": 0,
              "ticks": ""
             }
            },
            "type": "scatterpolar"
           }
          ],
          "scatterpolargl": [
           {
            "marker": {
             "colorbar": {
              "outlinewidth": 0,
              "ticks": ""
             }
            },
            "type": "scatterpolargl"
           }
          ],
          "scatterternary": [
           {
            "marker": {
             "colorbar": {
              "outlinewidth": 0,
              "ticks": ""
             }
            },
            "type": "scatterternary"
           }
          ],
          "surface": [
           {
            "colorbar": {
             "outlinewidth": 0,
             "ticks": ""
            },
            "colorscale": [
             [
              0,
              "#0d0887"
             ],
             [
              0.1111111111111111,
              "#46039f"
             ],
             [
              0.2222222222222222,
              "#7201a8"
             ],
             [
              0.3333333333333333,
              "#9c179e"
             ],
             [
              0.4444444444444444,
              "#bd3786"
             ],
             [
              0.5555555555555556,
              "#d8576b"
             ],
             [
              0.6666666666666666,
              "#ed7953"
             ],
             [
              0.7777777777777778,
              "#fb9f3a"
             ],
             [
              0.8888888888888888,
              "#fdca26"
             ],
             [
              1,
              "#f0f921"
             ]
            ],
            "type": "surface"
           }
          ],
          "table": [
           {
            "cells": {
             "fill": {
              "color": "#EBF0F8"
             },
             "line": {
              "color": "white"
             }
            },
            "header": {
             "fill": {
              "color": "#C8D4E3"
             },
             "line": {
              "color": "white"
             }
            },
            "type": "table"
           }
          ]
         },
         "layout": {
          "annotationdefaults": {
           "arrowcolor": "#2a3f5f",
           "arrowhead": 0,
           "arrowwidth": 1
          },
          "autotypenumbers": "strict",
          "coloraxis": {
           "colorbar": {
            "outlinewidth": 0,
            "ticks": ""
           }
          },
          "colorscale": {
           "diverging": [
            [
             0,
             "#8e0152"
            ],
            [
             0.1,
             "#c51b7d"
            ],
            [
             0.2,
             "#de77ae"
            ],
            [
             0.3,
             "#f1b6da"
            ],
            [
             0.4,
             "#fde0ef"
            ],
            [
             0.5,
             "#f7f7f7"
            ],
            [
             0.6,
             "#e6f5d0"
            ],
            [
             0.7,
             "#b8e186"
            ],
            [
             0.8,
             "#7fbc41"
            ],
            [
             0.9,
             "#4d9221"
            ],
            [
             1,
             "#276419"
            ]
           ],
           "sequential": [
            [
             0,
             "#0d0887"
            ],
            [
             0.1111111111111111,
             "#46039f"
            ],
            [
             0.2222222222222222,
             "#7201a8"
            ],
            [
             0.3333333333333333,
             "#9c179e"
            ],
            [
             0.4444444444444444,
             "#bd3786"
            ],
            [
             0.5555555555555556,
             "#d8576b"
            ],
            [
             0.6666666666666666,
             "#ed7953"
            ],
            [
             0.7777777777777778,
             "#fb9f3a"
            ],
            [
             0.8888888888888888,
             "#fdca26"
            ],
            [
             1,
             "#f0f921"
            ]
           ],
           "sequentialminus": [
            [
             0,
             "#0d0887"
            ],
            [
             0.1111111111111111,
             "#46039f"
            ],
            [
             0.2222222222222222,
             "#7201a8"
            ],
            [
             0.3333333333333333,
             "#9c179e"
            ],
            [
             0.4444444444444444,
             "#bd3786"
            ],
            [
             0.5555555555555556,
             "#d8576b"
            ],
            [
             0.6666666666666666,
             "#ed7953"
            ],
            [
             0.7777777777777778,
             "#fb9f3a"
            ],
            [
             0.8888888888888888,
             "#fdca26"
            ],
            [
             1,
             "#f0f921"
            ]
           ]
          },
          "colorway": [
           "#636efa",
           "#EF553B",
           "#00cc96",
           "#ab63fa",
           "#FFA15A",
           "#19d3f3",
           "#FF6692",
           "#B6E880",
           "#FF97FF",
           "#FECB52"
          ],
          "font": {
           "color": "#2a3f5f"
          },
          "geo": {
           "bgcolor": "white",
           "lakecolor": "white",
           "landcolor": "#E5ECF6",
           "showlakes": true,
           "showland": true,
           "subunitcolor": "white"
          },
          "hoverlabel": {
           "align": "left"
          },
          "hovermode": "closest",
          "mapbox": {
           "style": "light"
          },
          "paper_bgcolor": "white",
          "plot_bgcolor": "#E5ECF6",
          "polar": {
           "angularaxis": {
            "gridcolor": "white",
            "linecolor": "white",
            "ticks": ""
           },
           "bgcolor": "#E5ECF6",
           "radialaxis": {
            "gridcolor": "white",
            "linecolor": "white",
            "ticks": ""
           }
          },
          "scene": {
           "xaxis": {
            "backgroundcolor": "#E5ECF6",
            "gridcolor": "white",
            "gridwidth": 2,
            "linecolor": "white",
            "showbackground": true,
            "ticks": "",
            "zerolinecolor": "white"
           },
           "yaxis": {
            "backgroundcolor": "#E5ECF6",
            "gridcolor": "white",
            "gridwidth": 2,
            "linecolor": "white",
            "showbackground": true,
            "ticks": "",
            "zerolinecolor": "white"
           },
           "zaxis": {
            "backgroundcolor": "#E5ECF6",
            "gridcolor": "white",
            "gridwidth": 2,
            "linecolor": "white",
            "showbackground": true,
            "ticks": "",
            "zerolinecolor": "white"
           }
          },
          "shapedefaults": {
           "line": {
            "color": "#2a3f5f"
           }
          },
          "ternary": {
           "aaxis": {
            "gridcolor": "white",
            "linecolor": "white",
            "ticks": ""
           },
           "baxis": {
            "gridcolor": "white",
            "linecolor": "white",
            "ticks": ""
           },
           "bgcolor": "#E5ECF6",
           "caxis": {
            "gridcolor": "white",
            "linecolor": "white",
            "ticks": ""
           }
          },
          "title": {
           "x": 0.05
          },
          "xaxis": {
           "automargin": true,
           "gridcolor": "white",
           "linecolor": "white",
           "ticks": "",
           "title": {
            "standoff": 15
           },
           "zerolinecolor": "white",
           "zerolinewidth": 2
          },
          "yaxis": {
           "automargin": true,
           "gridcolor": "white",
           "linecolor": "white",
           "ticks": "",
           "title": {
            "standoff": 15
           },
           "zerolinecolor": "white",
           "zerolinewidth": 2
          }
         }
        },
        "title": {
         "text": "Airport Flight Data: 2024 vs 2019"
        }
       }
      }
     },
     "metadata": {},
     "output_type": "display_data"
    }
   ],
   "source": [
    "import pandas as pd\n",
    "import plotly.graph_objects as go\n",
    "\n",
    "# Assuming spain_flights is your original DataFrame with flight data\n",
    "\n",
    "# Create the pivot table with average daily departures\n",
    "average_daily_dept_arriv = pd.pivot_table(\n",
    "    spain_flights,\n",
    "    index=[\"APT_NAME\", \"IATA\"],\n",
    "    columns=\"YEAR\",\n",
    "    values=\"FLT_TOT_1\",\n",
    "    aggfunc=\"mean\"\n",
    ").fillna(0)\n",
    "\n",
    "# Calculate the YoY difference specifically between 2024 and 2019\n",
    "if 2024 in average_daily_dept_arriv.columns and 2019 in average_daily_dept_arriv.columns:\n",
    "    average_daily_dept_arriv['YoY_2024_vs_2019'] = average_daily_dept_arriv[2024] - average_daily_dept_arriv[2019]\n",
    "else:\n",
    "    raise ValueError(\"One or both of the years 2024 and 2019 are not present in the data.\")\n",
    "\n",
    "# Reset index to convert index levels back to columns\n",
    "average_daily_dept_arriv.reset_index(inplace=True)\n",
    "\n",
    "# Select only the desired columns\n",
    "result_columns = [\"APT_NAME\", \"IATA\", 2024, \"YoY_2024_vs_2019\"]\n",
    "average_daily_dept_arriv_selected = average_daily_dept_arriv[result_columns]\n",
    "\n",
    "# Sort by the Mean Departures 2024 in descending order\n",
    "average_daily_dept_arriv_selected.sort_values(by=2024, ascending=False, inplace=True)\n",
    "\n",
    "# Create the visual table\n",
    "fig = go.Figure(data=[go.Table(\n",
    "    header=dict(values=[\"Airport Name\", \"IATA Code\", \"Mean Flights(D/A) 2024\", \"YoY 2024 vs 2019\"],\n",
    "                fill_color='paleturquoise',\n",
    "                align='left'),\n",
    "    cells=dict(\n",
    "        values=[\n",
    "            average_daily_dept_arriv_selected['APT_NAME'],\n",
    "            average_daily_dept_arriv_selected['IATA'],\n",
    "            average_daily_dept_arriv_selected[2024].round(0),\n",
    "            average_daily_dept_arriv_selected['YoY_2024_vs_2019'].round(0)\n",
    "        ],\n",
    "        # Set default color for all cells and then override only the YoY column\n",
    "        fill_color=[\n",
    "            ['paleturquoise'] * len(average_daily_dept_arriv_selected),  # Default color for APT_NAME\n",
    "            ['paleturquoise'] * len(average_daily_dept_arriv_selected),  # Default color for IATA\n",
    "            ['paleturquoise'] * len(average_daily_dept_arriv_selected),  # Default color for Mean Departures 2024\n",
    "            ['green' if x > 0 else 'red' for x in average_daily_dept_arriv_selected['YoY_2024_vs_2019']]  # Color for YoY column\n",
    "        ],\n",
    "        align='left'\n",
    "    ))\n",
    "])\n",
    "\n",
    "fig.update_layout(title='Airport Flight Data: 2024 vs 2019', height=400)\n",
    "fig.show()\n"
   ]
  },
  {
   "cell_type": "code",
   "execution_count": 30,
   "metadata": {},
   "outputs": [],
   "source": [
    "spain_passangers_type_iata[\"Total_Tax\"] = spain_passangers_type_iata[\"National_tax\"] + spain_passangers_type_iata[\"International_tax\"]"
   ]
  },
  {
   "cell_type": "code",
   "execution_count": 31,
   "metadata": {},
   "outputs": [
    {
     "data": {
      "text/html": [
       "<div>\n",
       "<style scoped>\n",
       "    .dataframe tbody tr th:only-of-type {\n",
       "        vertical-align: middle;\n",
       "    }\n",
       "\n",
       "    .dataframe tbody tr th {\n",
       "        vertical-align: top;\n",
       "    }\n",
       "\n",
       "    .dataframe thead th {\n",
       "        text-align: right;\n",
       "    }\n",
       "</style>\n",
       "<table border=\"1\" class=\"dataframe\">\n",
       "  <thead>\n",
       "    <tr style=\"text-align: right;\">\n",
       "      <th></th>\n",
       "      <th>Origin</th>\n",
       "      <th>Month_Year</th>\n",
       "      <th>D</th>\n",
       "      <th>I</th>\n",
       "      <th>YEAR</th>\n",
       "      <th>YEAR_MONTH</th>\n",
       "      <th>APT_NAME</th>\n",
       "      <th>IATA</th>\n",
       "      <th>Airport</th>\n",
       "      <th>YR</th>\n",
       "      <th>Security (National)</th>\n",
       "      <th>Security(International)</th>\n",
       "      <th>National_tax</th>\n",
       "      <th>International_tax</th>\n",
       "      <th>Total_Tax</th>\n",
       "    </tr>\n",
       "  </thead>\n",
       "  <tbody>\n",
       "    <tr>\n",
       "      <th>0</th>\n",
       "      <td>Alicante</td>\n",
       "      <td>2016-01</td>\n",
       "      <td>0.0</td>\n",
       "      <td>7968.0</td>\n",
       "      <td>2016.0</td>\n",
       "      <td>2016-01</td>\n",
       "      <td>Alicante</td>\n",
       "      <td>ALC</td>\n",
       "      <td>Alicante-Elche</td>\n",
       "      <td>6.15</td>\n",
       "      <td>5.27</td>\n",
       "      <td>7.92</td>\n",
       "      <td>0.0</td>\n",
       "      <td>112109.76</td>\n",
       "      <td>112109.76</td>\n",
       "    </tr>\n",
       "    <tr>\n",
       "      <th>31</th>\n",
       "      <td>Alicante</td>\n",
       "      <td>2016-02</td>\n",
       "      <td>0.0</td>\n",
       "      <td>6813.0</td>\n",
       "      <td>2016.0</td>\n",
       "      <td>2016-02</td>\n",
       "      <td>Alicante</td>\n",
       "      <td>ALC</td>\n",
       "      <td>Alicante-Elche</td>\n",
       "      <td>6.15</td>\n",
       "      <td>5.27</td>\n",
       "      <td>7.92</td>\n",
       "      <td>0.0</td>\n",
       "      <td>95858.91</td>\n",
       "      <td>95858.91</td>\n",
       "    </tr>\n",
       "    <tr>\n",
       "      <th>60</th>\n",
       "      <td>Alicante</td>\n",
       "      <td>2016-03</td>\n",
       "      <td>0.0</td>\n",
       "      <td>8203.0</td>\n",
       "      <td>2016.0</td>\n",
       "      <td>2016-03</td>\n",
       "      <td>Alicante</td>\n",
       "      <td>ALC</td>\n",
       "      <td>Alicante-Elche</td>\n",
       "      <td>6.15</td>\n",
       "      <td>5.27</td>\n",
       "      <td>7.92</td>\n",
       "      <td>0.0</td>\n",
       "      <td>115416.21</td>\n",
       "      <td>115416.21</td>\n",
       "    </tr>\n",
       "    <tr>\n",
       "      <th>91</th>\n",
       "      <td>Alicante</td>\n",
       "      <td>2016-04</td>\n",
       "      <td>0.0</td>\n",
       "      <td>7747.0</td>\n",
       "      <td>2016.0</td>\n",
       "      <td>2016-04</td>\n",
       "      <td>Alicante</td>\n",
       "      <td>ALC</td>\n",
       "      <td>Alicante-Elche</td>\n",
       "      <td>6.15</td>\n",
       "      <td>5.27</td>\n",
       "      <td>7.92</td>\n",
       "      <td>0.0</td>\n",
       "      <td>109000.29</td>\n",
       "      <td>109000.29</td>\n",
       "    </tr>\n",
       "    <tr>\n",
       "      <th>121</th>\n",
       "      <td>Alicante</td>\n",
       "      <td>2016-05</td>\n",
       "      <td>0.0</td>\n",
       "      <td>8577.0</td>\n",
       "      <td>2016.0</td>\n",
       "      <td>2016-05</td>\n",
       "      <td>Alicante</td>\n",
       "      <td>ALC</td>\n",
       "      <td>Alicante-Elche</td>\n",
       "      <td>6.15</td>\n",
       "      <td>5.27</td>\n",
       "      <td>7.92</td>\n",
       "      <td>0.0</td>\n",
       "      <td>120678.39</td>\n",
       "      <td>120678.39</td>\n",
       "    </tr>\n",
       "  </tbody>\n",
       "</table>\n",
       "</div>"
      ],
      "text/plain": [
       "       Origin Month_Year    D       I    YEAR YEAR_MONTH  APT_NAME IATA  \\\n",
       "0    Alicante    2016-01  0.0  7968.0  2016.0    2016-01  Alicante  ALC   \n",
       "31   Alicante    2016-02  0.0  6813.0  2016.0    2016-02  Alicante  ALC   \n",
       "60   Alicante    2016-03  0.0  8203.0  2016.0    2016-03  Alicante  ALC   \n",
       "91   Alicante    2016-04  0.0  7747.0  2016.0    2016-04  Alicante  ALC   \n",
       "121  Alicante    2016-05  0.0  8577.0  2016.0    2016-05  Alicante  ALC   \n",
       "\n",
       "            Airport    YR Security (National) Security(International)  \\\n",
       "0    Alicante-Elche  6.15                5.27                    7.92   \n",
       "31   Alicante-Elche  6.15                5.27                    7.92   \n",
       "60   Alicante-Elche  6.15                5.27                    7.92   \n",
       "91   Alicante-Elche  6.15                5.27                    7.92   \n",
       "121  Alicante-Elche  6.15                5.27                    7.92   \n",
       "\n",
       "    National_tax International_tax  Total_Tax  \n",
       "0            0.0         112109.76  112109.76  \n",
       "31           0.0          95858.91   95858.91  \n",
       "60           0.0         115416.21  115416.21  \n",
       "91           0.0         109000.29  109000.29  \n",
       "121          0.0         120678.39  120678.39  "
      ]
     },
     "execution_count": 31,
     "metadata": {},
     "output_type": "execute_result"
    }
   ],
   "source": [
    "spain_passangers_type_iata.loc[\n",
    "    spain_passangers_type_iata[\"Origin\"].isin([\"Madrid-B\"])\n",
    "]"
   ]
  },
  {
   "cell_type": "code",
   "execution_count": 45,
   "metadata": {},
   "outputs": [],
   "source": [
    "spain_airport = ((pd.pivot_table(spain_passangers_type_iata, index = [\"Origin\",\"IATA\",\"YEAR\"],values =\"Total_Tax\",aggfunc=\"sum\")/10000).fillna(0).round(0)).reset_index()"
   ]
  },
  {
   "cell_type": "code",
   "execution_count": 43,
   "metadata": {},
   "outputs": [],
   "source": [
    "main_airports = spain_passangers_type_iata.loc[spain_passangers_type_iata[\"Origin\"].isin([\"Madrid - Barajas\",\"Barcelona\"])]"
   ]
  },
  {
   "cell_type": "code",
   "execution_count": 48,
   "metadata": {},
   "outputs": [],
   "source": [
    "main_airports_data = ((pd.pivot_table(main_airports, index = [\"Origin\",\"IATA\",\"YEAR\"],values =\"Total_Tax\",aggfunc=\"sum\")/10000).fillna(0).round(0)).reset_index()"
   ]
  },
  {
   "cell_type": "code",
   "execution_count": 54,
   "metadata": {},
   "outputs": [
    {
     "data": {
      "image/png": "[encoded data removed]",
      "text/plain": [
       "<Figure size 1200x800 with 1 Axes>"
      ]
     },
     "metadata": {},
     "output_type": "display_data"
    }
   ],
   "source": [
    "import seaborn as sns\n",
    "import matplotlib.pyplot as plt\n",
    "\n",
    "# Grouping by \"YEAR\" and \"Origin\" to get total amount for each airport per year\n",
    "total_by_year_airport = main_airports_data.groupby(['YEAR', 'Origin'])['Total_Tax'].sum().reset_index()\n",
    "\n",
    "# Set up the plot\n",
    "plt.figure(figsize=(12, 8))\n",
    "\n",
    "# Custom color palette for two colors (blue and red)\n",
    "colors = ['blue', 'red']\n",
    "sns.barplot(data=total_by_year_airport, x='YEAR', y='Total_Tax', hue='Origin', palette=colors)\n",
    "\n",
    "# Adding title and labels\n",
    "plt.title('Total Amount by Year for Each Airport')\n",
    "plt.xlabel('Year')\n",
    "plt.ylabel('Total Amount (in 10,000s)')\n",
    "\n",
    "# Display the legend and the plot\n",
    "plt.legend(title='Airport')\n",
    "plt.show()\n"
   ]
  },
  {
   "cell_type": "code",
   "execution_count": 119,
   "metadata": {},
   "outputs": [],
   "source": [
    "aena = pd.read_csv(\"/Users/adolfoartolamadrigal/Documents/Irohacks/Project/Project1/aena3.0.csv\")\n"
   ]
  },
  {
   "cell_type": "code",
   "execution_count": 120,
   "metadata": {},
   "outputs": [
    {
     "data": {
      "text/html": [
       "<div>\n",
       "<style scoped>\n",
       "    .dataframe tbody tr th:only-of-type {\n",
       "        vertical-align: middle;\n",
       "    }\n",
       "\n",
       "    .dataframe tbody tr th {\n",
       "        vertical-align: top;\n",
       "    }\n",
       "\n",
       "    .dataframe thead th {\n",
       "        text-align: right;\n",
       "    }\n",
       "</style>\n",
       "<table border=\"1\" class=\"dataframe\">\n",
       "  <thead>\n",
       "    <tr style=\"text-align: right;\">\n",
       "      <th></th>\n",
       "      <th>P/L</th>\n",
       "      <th>2019</th>\n",
       "      <th>2020</th>\n",
       "      <th>2021</th>\n",
       "      <th>2022</th>\n",
       "      <th>2023</th>\n",
       "    </tr>\n",
       "  </thead>\n",
       "  <tbody>\n",
       "    <tr>\n",
       "      <th>0</th>\n",
       "      <td>Total Revenue</td>\n",
       "      <td>4457.77</td>\n",
       "      <td>2185.90</td>\n",
       "      <td>2333.12</td>\n",
       "      <td>4197.15</td>\n",
       "      <td>5055.19</td>\n",
       "    </tr>\n",
       "    <tr>\n",
       "      <th>1</th>\n",
       "      <td>Gross Profit</td>\n",
       "      <td>3831.06</td>\n",
       "      <td>1575.04</td>\n",
       "      <td>1714.84</td>\n",
       "      <td>3519.53</td>\n",
       "      <td>4010.69</td>\n",
       "    </tr>\n",
       "    <tr>\n",
       "      <th>2</th>\n",
       "      <td>Operating Profit</td>\n",
       "      <td>1947.02</td>\n",
       "      <td>-24.13</td>\n",
       "      <td>26.56</td>\n",
       "      <td>1283.79</td>\n",
       "      <td>1986.13</td>\n",
       "    </tr>\n",
       "    <tr>\n",
       "      <th>3</th>\n",
       "      <td>Earnings Before Taxes</td>\n",
       "      <td>1882.85</td>\n",
       "      <td>-213.00</td>\n",
       "      <td>-168.00</td>\n",
       "      <td>1169.61</td>\n",
       "      <td>2165.89</td>\n",
       "    </tr>\n",
       "    <tr>\n",
       "      <th>4</th>\n",
       "      <td>Net Income</td>\n",
       "      <td>1442.02</td>\n",
       "      <td>-127.00</td>\n",
       "      <td>-60.04</td>\n",
       "      <td>901.00</td>\n",
       "      <td>1630.81</td>\n",
       "    </tr>\n",
       "  </tbody>\n",
       "</table>\n",
       "</div>"
      ],
      "text/plain": [
       "                     P/L     2019     2020     2021     2022     2023\n",
       "0          Total Revenue  4457.77  2185.90  2333.12  4197.15  5055.19\n",
       "1           Gross Profit  3831.06  1575.04  1714.84  3519.53  4010.69\n",
       "2       Operating Profit  1947.02   -24.13    26.56  1283.79  1986.13\n",
       "3  Earnings Before Taxes  1882.85  -213.00  -168.00  1169.61  2165.89\n",
       "4             Net Income  1442.02  -127.00   -60.04   901.00  1630.81"
      ]
     },
     "execution_count": 120,
     "metadata": {},
     "output_type": "execute_result"
    }
   ],
   "source": [
    "aena"
   ]
  },
  {
   "cell_type": "code",
   "execution_count": 126,
   "metadata": {},
   "outputs": [
    {
     "data": {
      "image/png": "[encoded data removed]",
      "text/plain": [
       "<Figure size 1200x600 with 1 Axes>"
      ]
     },
     "metadata": {},
     "output_type": "display_data"
    }
   ],
   "source": [
    "import matplotlib.pyplot as plt\n",
    "import seaborn as sns\n",
    "\n",
    "aena_long = aena.melt(id_vars='P/L', var_name='Year', value_name='Amount')\n",
    "\n",
    "aena_long = aena.melt(id_vars='P/L', var_name='Year', value_name='Amount')\n",
    "\n",
    "# Plotting\n",
    "plt.figure(figsize=(12, 6))\n",
    "sns.barplot(data=aena_long, x='Year', y='Amount', hue='P/L', dodge=True)\n",
    "\n",
    "plt.xlabel('Year')\n",
    "plt.ylabel('Amount in Thousands')\n",
    "plt.title('P/L AENA')\n",
    "plt.legend(title='P/L', bbox_to_anchor=(1.05, 1), loc='upper left')\n",
    "plt.xticks(rotation=45)\n",
    "plt.tight_layout()\n",
    "plt.show()"
   ]
  },
  {
   "cell_type": "code",
   "execution_count": 129,
   "metadata": {},
   "outputs": [
    {
     "data": {
      "text/html": [
       "<div>\n",
       "<style scoped>\n",
       "    .dataframe tbody tr th:only-of-type {\n",
       "        vertical-align: middle;\n",
       "    }\n",
       "\n",
       "    .dataframe tbody tr th {\n",
       "        vertical-align: top;\n",
       "    }\n",
       "\n",
       "    .dataframe thead th {\n",
       "        text-align: right;\n",
       "    }\n",
       "</style>\n",
       "<table border=\"1\" class=\"dataframe\">\n",
       "  <thead>\n",
       "    <tr style=\"text-align: right;\">\n",
       "      <th></th>\n",
       "      <th>Origin</th>\n",
       "      <th>Month_Year</th>\n",
       "      <th>D</th>\n",
       "      <th>I</th>\n",
       "      <th>YEAR</th>\n",
       "      <th>YEAR_MONTH</th>\n",
       "      <th>APT_NAME</th>\n",
       "      <th>IATA</th>\n",
       "      <th>Airport</th>\n",
       "      <th>YR</th>\n",
       "      <th>Security (National)</th>\n",
       "      <th>Security(International)</th>\n",
       "      <th>National_tax</th>\n",
       "      <th>International_tax</th>\n",
       "      <th>Total_Tax</th>\n",
       "    </tr>\n",
       "  </thead>\n",
       "  <tbody>\n",
       "    <tr>\n",
       "      <th>0</th>\n",
       "      <td>Alicante</td>\n",
       "      <td>2016-01</td>\n",
       "      <td>0.0</td>\n",
       "      <td>7968.0</td>\n",
       "      <td>2016.0</td>\n",
       "      <td>2016-01</td>\n",
       "      <td>Alicante</td>\n",
       "      <td>ALC</td>\n",
       "      <td>Alicante-Elche</td>\n",
       "      <td>6.15</td>\n",
       "      <td>5.27</td>\n",
       "      <td>7.92</td>\n",
       "      <td>0.0</td>\n",
       "      <td>112109.76</td>\n",
       "      <td>112109.76</td>\n",
       "    </tr>\n",
       "    <tr>\n",
       "      <th>31</th>\n",
       "      <td>Alicante</td>\n",
       "      <td>2016-02</td>\n",
       "      <td>0.0</td>\n",
       "      <td>6813.0</td>\n",
       "      <td>2016.0</td>\n",
       "      <td>2016-02</td>\n",
       "      <td>Alicante</td>\n",
       "      <td>ALC</td>\n",
       "      <td>Alicante-Elche</td>\n",
       "      <td>6.15</td>\n",
       "      <td>5.27</td>\n",
       "      <td>7.92</td>\n",
       "      <td>0.0</td>\n",
       "      <td>95858.91</td>\n",
       "      <td>95858.91</td>\n",
       "    </tr>\n",
       "    <tr>\n",
       "      <th>60</th>\n",
       "      <td>Alicante</td>\n",
       "      <td>2016-03</td>\n",
       "      <td>0.0</td>\n",
       "      <td>8203.0</td>\n",
       "      <td>2016.0</td>\n",
       "      <td>2016-03</td>\n",
       "      <td>Alicante</td>\n",
       "      <td>ALC</td>\n",
       "      <td>Alicante-Elche</td>\n",
       "      <td>6.15</td>\n",
       "      <td>5.27</td>\n",
       "      <td>7.92</td>\n",
       "      <td>0.0</td>\n",
       "      <td>115416.21</td>\n",
       "      <td>115416.21</td>\n",
       "    </tr>\n",
       "    <tr>\n",
       "      <th>91</th>\n",
       "      <td>Alicante</td>\n",
       "      <td>2016-04</td>\n",
       "      <td>0.0</td>\n",
       "      <td>7747.0</td>\n",
       "      <td>2016.0</td>\n",
       "      <td>2016-04</td>\n",
       "      <td>Alicante</td>\n",
       "      <td>ALC</td>\n",
       "      <td>Alicante-Elche</td>\n",
       "      <td>6.15</td>\n",
       "      <td>5.27</td>\n",
       "      <td>7.92</td>\n",
       "      <td>0.0</td>\n",
       "      <td>109000.29</td>\n",
       "      <td>109000.29</td>\n",
       "    </tr>\n",
       "    <tr>\n",
       "      <th>121</th>\n",
       "      <td>Alicante</td>\n",
       "      <td>2016-05</td>\n",
       "      <td>0.0</td>\n",
       "      <td>8577.0</td>\n",
       "      <td>2016.0</td>\n",
       "      <td>2016-05</td>\n",
       "      <td>Alicante</td>\n",
       "      <td>ALC</td>\n",
       "      <td>Alicante-Elche</td>\n",
       "      <td>6.15</td>\n",
       "      <td>5.27</td>\n",
       "      <td>7.92</td>\n",
       "      <td>0.0</td>\n",
       "      <td>120678.39</td>\n",
       "      <td>120678.39</td>\n",
       "    </tr>\n",
       "  </tbody>\n",
       "</table>\n",
       "</div>"
      ],
      "text/plain": [
       "       Origin Month_Year    D       I    YEAR YEAR_MONTH  APT_NAME IATA  \\\n",
       "0    Alicante    2016-01  0.0  7968.0  2016.0    2016-01  Alicante  ALC   \n",
       "31   Alicante    2016-02  0.0  6813.0  2016.0    2016-02  Alicante  ALC   \n",
       "60   Alicante    2016-03  0.0  8203.0  2016.0    2016-03  Alicante  ALC   \n",
       "91   Alicante    2016-04  0.0  7747.0  2016.0    2016-04  Alicante  ALC   \n",
       "121  Alicante    2016-05  0.0  8577.0  2016.0    2016-05  Alicante  ALC   \n",
       "\n",
       "            Airport    YR Security (National) Security(International)  \\\n",
       "0    Alicante-Elche  6.15                5.27                    7.92   \n",
       "31   Alicante-Elche  6.15                5.27                    7.92   \n",
       "60   Alicante-Elche  6.15                5.27                    7.92   \n",
       "91   Alicante-Elche  6.15                5.27                    7.92   \n",
       "121  Alicante-Elche  6.15                5.27                    7.92   \n",
       "\n",
       "    National_tax International_tax  Total_Tax  \n",
       "0            0.0         112109.76  112109.76  \n",
       "31           0.0          95858.91   95858.91  \n",
       "60           0.0         115416.21  115416.21  \n",
       "91           0.0         109000.29  109000.29  \n",
       "121          0.0         120678.39  120678.39  "
      ]
     },
     "execution_count": 129,
     "metadata": {},
     "output_type": "execute_result"
    }
   ],
   "source": [
    "spain_passangers_type_iata.head()"
   ]
  },
  {
   "cell_type": "code",
   "execution_count": null,
   "metadata": {},
   "outputs": [],
   "source": []
  }
 ],
 "metadata": {
  "kernelspec": {
   "display_name": "base",
   "language": "python",
   "name": "python3"
  },
  "language_info": {
   "codemirror_mode": {
    "name": "ipython",
    "version": 3
   },
   "file_extension": ".py",
   "mimetype": "text/x-python",
   "name": "python",
   "nbconvert_exporter": "python",
   "pygments_lexer": "ipython3",
   "version": "3.11.5"
  }
 },
 "nbformat": 4,
 "nbformat_minor": 2
}
